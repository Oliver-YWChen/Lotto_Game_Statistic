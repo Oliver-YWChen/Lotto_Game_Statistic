{
 "cells": [
  {
   "cell_type": "code",
   "execution_count": 14,
   "metadata": {},
   "outputs": [
    {
     "name": "stdout",
     "output_type": "stream",
     "text": [
      "[5140, 10047, 84813]\n"
     ]
    }
   ],
   "source": [
    "import random\n",
    "\n",
    "fPrize = 500\n",
    "fPercent = 0.05\n",
    "sPrize = 200\n",
    "sPercent = 0.1\n",
    "\n",
    "record = [0, 0, 0]\n",
    "for i in range(1000):\n",
    "    \n",
    "    \n",
    "    lotto = random.random()\n",
    "    if lotto <= fPercent:\n",
    "        record[0] += 1\n",
    "    elif lotto <= fPercent + sPercent:\n",
    "        record[1] += 1\n",
    "    else:\n",
    "        record[2] += 1\n",
    "    \n",
    "print(record)"
   ]
  },
  {
   "cell_type": "code",
   "execution_count": 37,
   "metadata": {},
   "outputs": [
    {
     "name": "stdout",
     "output_type": "stream",
     "text": [
      "[45, 103, 852]\n",
      "XXXX2XXXXXXXXXXX2XXX12XXXXXXXXXXXXX2XXXXXX2XXX2XXXXXXXXXXXXX222221XX1XXXX1XXXXXXXXXXXXXXXXXXX12X2XXXXXXXXXXXXXXXXXXX2XXXX1XXXXXXXXXXXXXXXX1XXX2XX21XXXXXXXXXXXXXXXXXX2X2XXXXXXXXXXXXXXXXXXXXXXXXXXXXXXXXXXXX22XXXXXXXX2XXXXXX2X1XXXXXXXX1XXXXXXXXXX2XXXXXXXXX1XXX12XXXX2X2XXXXXXXXXX2XXXXX1XXXXXXXXX2XXXXXXXXXX1XXXXXXXX2XXXXXX2XXXXXXXXXXXXXXXXXXXXX12XXXXXXXXX22XX2XXX1XXXXXXX1XXXXXXXXXXXXXX22XXXX2X2XXXXXXXXXXXX21XXXXXXXX2XXX1XXXXXXXXX1X2XXXX12XXXXXXXXXXXXX2XXXXXXXXXX2XX2XXXXXX21XXXXXXXXXXXXX2XXXXXXXXXXXXXXXXXXXXX1X12XXXXXXXXXX1XXX2XXXXXXXX1XXXXXXX1XXXXXXXXXXXXXXX2XXXXXXXXXXXXXXXX22XXX2XXXX1XXX2XXXX1XXXXX1XXX1XXXXX2XX2XX2XXXX21XXXXX2XX2XXXXXXXXXXXXXXXXXXXXX2X2XXXXXXXXXXXXXXXX2XXXXXXXX1XXXXXXX2XXXXXXXXXXX121XXXXXXXXXXX1X2XXXXXXXXXX2XXX2XXXXXXXXXXXXXXXXX2XXX1XXXXXXX2XXXX1XX2XXXXXXXXXXXX2XX2XXXXXX2XXXXXXXXXXXXXXXXXXXXXX1XXX12XXX1XXXXXXXXXXXX2XXXXX2X2XX2XXXXXX222X2XXXXXXX2XX1XXX2XX2XX2X2XXXXX2XXXXXXXXXXX2XXXXXXXXXXXXXX2XXX22XX2XXXXXXXXXXXXXXXXX1XXXXXXXXXXX21XX2XX2XX22XXXXXXXXX2X2XXXXXXXXXX1XXXXXXX22X\n"
     ]
    }
   ],
   "source": [
    "fPrize = 500\n",
    "fPercent = 0.05\n",
    "sPrize = 200\n",
    "sPercent = 0.1\n",
    "EV = 0\n",
    "\n",
    "record = [0, 0, 0]\n",
    "recordList = \"\"\n",
    "winTime = random.randint(1,5)  #The win time in the first 5 games\n",
    "for i in range(1000):\n",
    "    lotto = random.random()\n",
    "    \n",
    "    if i < 5:\n",
    "        if i == winTime:\n",
    "            if lotto <= 0.083:\n",
    "                record[0] += 1\n",
    "                recordList += \"1\"\n",
    "            else:\n",
    "                record[1] += 1\n",
    "                recordList += \"2\"\n",
    "        else:\n",
    "            record[2] += 1\n",
    "            recordList += \"X\"\n",
    "        \n",
    "    else:\n",
    "        if lotto <= fPercent + sPercent:\n",
    "            if lotto <= fPercent:\n",
    "                record[0] += 1\n",
    "                recordList += \"1\"\n",
    "            else:\n",
    "                record[1] += 1\n",
    "                recordList += \"2\"    \n",
    "        else:\n",
    "            record[2] += 1\n",
    "            recordList += \"X\"\n",
    "\n",
    "            \n",
    "    \n",
    "print(record)\n",
    "print(recordList)"
   ]
  },
  {
   "cell_type": "code",
   "execution_count": 135,
   "metadata": {},
   "outputs": [
    {
     "name": "stdout",
     "output_type": "stream",
     "text": [
      "頭獎 5 次！   二獎 15 次！   槓龜 80 次！\n",
      "每局期望值：55.0元\n",
      "02000001000000000000\n",
      "[0, 2, 0, 0, 0, 0, 0, 0, 0, 2, 0, 0, 1, 0, 0, 0, 0, 2, 0, 2, 0, 0, 0, 0, 0, 0, 1, 0, 0, 0, 2, 0, 0, 0, 0, 2, 1, 0, 0, 1, 0, 2, 0, 0, 0, 2, 0, 0, 0, 0, 2, 0, 0, 0, 0, 0, 0, 0, 0, 0, 0, 2, 0, 2, 0, 0, 0, 0, 0, 0, 2, 0, 0, 2, 0, 0, 0, 0, 0, 2, 0, 2, 0, 0, 0, 0, 0, 1, 0, 0, 0, 0, 0, 0, 0, 0, 0, 0, 0, 0]\n",
      "[0, 1, 0, 0, 0, 0, 0, 0, 0, 1, 0, 0, 1, 0, 0, 0, 0, 1, 0, 1, 0, 0, 0, 0, 0, 0, 1, 0, 0, 0, 1, 0, 0, 0, 0, 1, 2, 0, 0, 1, 0, 1, 0, 0, 0, 1, 0, 0, 0, 0, 1, 0, 0, 0, 0, 0, 0, 0, 0, 0, 0, 1, 0, 1, 0, 0, 0, 0, 0, 0, 1, 0, 0, 1, 0, 0, 0, 0, 0, 1, 0, 1, 0, 0, 0, 0, 0, 1, 0, 0, 0, 0, 0, 0, 0, 0, 0, 0, 0, 0]\n"
     ]
    }
   ],
   "source": [
    "import random\n",
    "import math\n",
    "\n",
    "fPrize = 500\n",
    "sPrize = 200\n",
    "fPercent = 0.05\n",
    "sPercent = 0.1\n",
    "\n",
    "record = [0, 0, 0]\n",
    "recordList = []\n",
    "combo = 0\n",
    "comboList = []\n",
    "winTime5 = random.randint(0,4)  #The guaranteed winning time in the first 5 games\n",
    "\n",
    "for i in range(100):\n",
    "    lotto = random.random()\n",
    "    ii = i % 20                 #The index of every 20 games\n",
    "    \n",
    "    if ii == 0:\n",
    "        winTime20 = random.randint(0,19)  #The guaranteed winning time in every 20 games after the first 20.\n",
    "    \n",
    "    ## The first 5 games\n",
    "    if i < 5:\n",
    "        ## Win\n",
    "        if i == winTime5:\n",
    "            senarioWin(0.083,0.917,record,recordList)\n",
    "            combo += 1\n",
    "        ## Lose\n",
    "        else:\n",
    "            senarioLose(record,recordList)\n",
    "            combo = 0\n",
    "    \n",
    "    ## The 6~20th game\n",
    "    elif i >= 5 and i < 20:\n",
    "        ## Win\n",
    "        if lotto <= fPercent + sPercent:\n",
    "            senarioWin(fPercent,sPercent,record,recordList)\n",
    "            combo += 1\n",
    "        ## Lose\n",
    "        else:\n",
    "            senarioLose(record,recordList)\n",
    "            combo = 0\n",
    "            \n",
    "    ## After first 20 games\n",
    "    elif i >= 20:\n",
    "        ## Win guaranteed\n",
    "        if ii == winTime20:\n",
    "            senarioWin(fPercent,sPercent,record,recordList)\n",
    "            combo += 1\n",
    "        ## Win\n",
    "        elif lotto <= 0.1:\n",
    "            senarioWin(fPercent,sPercent,record,recordList)\n",
    "            combo += 1\n",
    "        ## Lose\n",
    "        else:\n",
    "            senarioLose(record,recordList)\n",
    "            combo = 0\n",
    "                   \n",
    "    comboList.append(combo)\n",
    "    \n",
    "\n",
    "## The game result\n",
    "print(f\"頭獎 {record[0]} 次！   二獎 {record[1]} 次！   槓龜 {record[2]} 次！\")\n",
    "    \n",
    "## Expected value\n",
    "EV = (fPrize*record[0]+sPrize*record[1])/len(recordList)\n",
    "print(f\"每局期望值：{EV}元\")\n",
    "\n",
    "## The game record\n",
    "for i in range(math.ceil(len(recordList)/20)):\n",
    "    each20 = \"\"\n",
    "    for j in range(4):\n",
    "        each5 = \"\"\n",
    "        for k in range(5):\n",
    "            each5 += str(recordList[20*i+5*j+k])\n",
    "        each20 += each5\n",
    "        \n",
    "print(each20)\n",
    "\n",
    "print(recordList)\n",
    "print(comboList)\n"
   ]
  },
  {
   "cell_type": "code",
   "execution_count": 134,
   "metadata": {},
   "outputs": [
    {
     "name": "stdout",
     "output_type": "stream",
     "text": [
      "頭獎 6 次！   二獎 8 次！   槓龜 86 次！\n",
      "每局期望值：46.0元\n",
      "遊戲紀錄~ (1為頭獎；2為二獎；0為槓龜)\n",
      "02000 00000 00000 00022 \n",
      "00000 00002 02010 00000 \n",
      "02000 10000 00112 00000 \n",
      "00000 20001 00000 00000 \n",
      "10000 00000 00000 00000 \n",
      "[0, 2, 0, 0, 0, 0, 0, 0, 0, 0, 0, 0, 0, 0, 0, 0, 0, 0, 2, 2, 0, 0, 0, 0, 0, 0, 0, 0, 0, 2, 0, 2, 0, 1, 0, 0, 0, 0, 0, 0, 0, 2, 0, 0, 0, 1, 0, 0, 0, 0, 0, 0, 1, 1, 2, 0, 0, 0, 0, 0, 0, 0, 0, 0, 0, 2, 0, 0, 0, 1, 0, 0, 0, 0, 0, 0, 0, 0, 0, 0, 1, 0, 0, 0, 0, 0, 0, 0, 0, 0, 0, 0, 0, 0, 0, 0, 0, 0, 0, 0]\n",
      "[0, 1, 0, 0, 0, 0, 0, 0, 0, 0, 0, 0, 0, 0, 0, 0, 0, 0, 1, 2, 0, 0, 0, 0, 0, 0, 0, 0, 0, 1, 0, 1, 0, 1, 0, 0, 0, 0, 0, 0, 0, 1, 0, 0, 0, 1, 0, 0, 0, 0, 0, 0, 1, 2, 3, 0, 0, 0, 0, 0, 0, 0, 0, 0, 0, 1, 0, 0, 0, 1, 0, 0, 0, 0, 0, 0, 0, 0, 0, 0, 1, 0, 0, 0, 0, 0, 0, 0, 0, 0, 0, 0, 0, 0, 0, 0, 0, 0, 0, 0]\n"
     ]
    }
   ],
   "source": [
    "## The game result\n",
    "print(f\"頭獎 {record[0]} 次！   二獎 {record[1]} 次！   槓龜 {record[2]} 次！\")\n",
    "    \n",
    "## Expected value\n",
    "EV = (fPrize*record[0]+sPrize*record[1])/len(recordList)\n",
    "print(f\"每局期望值：{EV}元\")\n",
    "\n",
    "## The game record\n",
    "print(\"遊戲紀錄~ (1為頭獎；2為二獎；0為槓龜)\")\n",
    "for i in range(math.ceil(len(recordList)/20)):\n",
    "    each20 = \"\"\n",
    "    for j in range(4):\n",
    "        each5 = \"\"\n",
    "        for k in range(5):\n",
    "            each5 += str(recordList[20*i+5*j+k])     \n",
    "        each20 += each5+\" \"\n",
    "    print(each20)\n",
    "print(recordList)\n",
    "\n",
    "\n",
    "print(comboList)"
   ]
  },
  {
   "cell_type": "code",
   "execution_count": 102,
   "metadata": {},
   "outputs": [],
   "source": [
    "def senarioWin(fPercent,sPercent,record,recordList):\n",
    "    lottoWin = random.random()\n",
    "    fRatio = fPercent/(fPercent+sPercent)\n",
    "    \n",
    "    if lottoWin <= fRatio:\n",
    "        record[0] += 1\n",
    "        recordList.append(1)\n",
    "    else:\n",
    "        record[1] += 1\n",
    "        recordList.append(2)\n",
    "        \n",
    "    return winCombo, record, recordList"
   ]
  },
  {
   "cell_type": "code",
   "execution_count": 81,
   "metadata": {},
   "outputs": [],
   "source": [
    "def senarioLose(record,recordList):\n",
    "    record[2] += 1\n",
    "    recordList.append(0)\n",
    "\n",
    "    return winCombo, record, recordList"
   ]
  },
  {
   "cell_type": "code",
   "execution_count": null,
   "metadata": {},
   "outputs": [],
   "source": []
  }
 ],
 "metadata": {
  "kernelspec": {
   "display_name": "Python 3",
   "language": "python",
   "name": "python3"
  },
  "language_info": {
   "codemirror_mode": {
    "name": "ipython",
    "version": 3
   },
   "file_extension": ".py",
   "mimetype": "text/x-python",
   "name": "python",
   "nbconvert_exporter": "python",
   "pygments_lexer": "ipython3",
   "version": "3.7.3"
  }
 },
 "nbformat": 4,
 "nbformat_minor": 2
}
