{
 "cells": [
  {
   "cell_type": "code",
   "execution_count": 52,
   "metadata": {},
   "outputs": [
    {
     "name": "stdout",
     "output_type": "stream",
     "text": [
      "該抽獎遊戲設定如下：\n",
      "S獎可得100元，機率約為18.18%。\n",
      "A獎可得50元，機率約為18.18%。\n",
      "B獎可得10元，機率約為27.27%。\n",
      " \n",
      "---------------Statistic---------------\n",
      "遊戲次數 1000000 次\n",
      "抽中S有 181955 次，占總遊戲次數18.20%\n",
      "抽中A有 181713 次，占總遊戲次數18.17%\n",
      "抽中B有 272994 次，占總遊戲次數27.30%\n",
      "沒中獎有 363338 次，占總遊戲次數36.33%\n",
      "期望值為 30.01 元\n"
     ]
    }
   ],
   "source": [
    "import random\n",
    "\n",
    "SM = 100\n",
    "AM = 50\n",
    "BM = 10\n",
    "\n",
    "SP = 1/5.5\n",
    "AP = 1/5.5\n",
    "BP = 1.5/5.5\n",
    "LP = 2/5.5\n",
    "totalRounds = 1000000\n",
    "\n",
    "mustS = 0\n",
    "noS = 0\n",
    "record = [0, 0, 0, 0]\n",
    "for i in range(totalRounds):\n",
    "    \n",
    "    ## if mustS == 0 >>>> initalize\n",
    "    if mustS == 0:\n",
    "        noS = 1\n",
    "        mustS = random.randint(1,10)\n",
    "    \n",
    "\n",
    "    ## win S\n",
    "    if noS == mustS:\n",
    "        record[0] += 1\n",
    "        mustS = 0\n",
    "\n",
    "    ## win A,B or lose\n",
    "    else:\n",
    "        noS += 1\n",
    "        lotto = random.random()\n",
    "        if lotto <= AP/(AP+BP+LP):\n",
    "            record[1] += 1\n",
    "        elif lotto <= (AP+BP)/(AP+BP+LP):\n",
    "            record[2] += 1\n",
    "        else:\n",
    "            record[3] += 1\n",
    "    \n",
    "SResultProb = format(record[0]/totalRounds*100,'.2f')\n",
    "AResultProb = format(record[1]/totalRounds*100,'.2f')\n",
    "BResultProb = format(record[2]/totalRounds*100,'.2f')\n",
    "LResultProb = format(record[3]/totalRounds*100,'.2f')\n",
    "eV = format((record[0]*100+record[1]*50+record[2]*10)/totalRounds,'.2f')\n",
    "\n",
    "print(\"該抽獎遊戲設定如下：\")\n",
    "print(\"S獎可得100元，機率約為18.18%。\")\n",
    "print(\"A獎可得50元，機率約為18.18%。\")\n",
    "print(\"B獎可得10元，機率約為27.27%。\")\n",
    "print(\" \")\n",
    "print(\"---------------Statistic---------------\")\n",
    "print(f\"遊戲次數 {totalRounds} 次\")\n",
    "print(f\"抽中S有 {record[0]} 次，占總遊戲次數{SResultProb}%\")\n",
    "print(f\"抽中A有 {record[1]} 次，占總遊戲次數{AResultProb}%\")\n",
    "print(f\"抽中B有 {record[2]} 次，占總遊戲次數{BResultProb}%\")\n",
    "print(f\"沒中獎有 {record[3]} 次，占總遊戲次數{LResultProb}%\")\n",
    "print(f\"期望值為 {eV} 元\")"
   ]
  },
  {
   "cell_type": "code",
   "execution_count": 21,
   "metadata": {},
   "outputs": [
    {
     "name": "stdout",
     "output_type": "stream",
     "text": [
      "5.500181\n"
     ]
    }
   ],
   "source": [
    "mm = 0\n",
    "mmt = 0\n",
    "ct =1000000\n",
    "for i in range(ct):\n",
    "    mm = random.randint(1,10)\n",
    "    mmt += mm\n",
    "\n",
    "print(mmt/ct)"
   ]
  },
  {
   "cell_type": "code",
   "execution_count": null,
   "metadata": {},
   "outputs": [],
   "source": []
  }
 ],
 "metadata": {
  "kernelspec": {
   "display_name": "Python 3",
   "language": "python",
   "name": "python3"
  },
  "language_info": {
   "codemirror_mode": {
    "name": "ipython",
    "version": 3
   },
   "file_extension": ".py",
   "mimetype": "text/x-python",
   "name": "python",
   "nbconvert_exporter": "python",
   "pygments_lexer": "ipython3",
   "version": "3.9.9"
  },
  "vscode": {
   "interpreter": {
    "hash": "b59eeb93c2b4375ec8a1efc106d8bb6c2abb2c86b3d2836f5465cf51ed75038d"
   }
  }
 },
 "nbformat": 4,
 "nbformat_minor": 2
}
